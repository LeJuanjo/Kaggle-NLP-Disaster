{
 "cells": [
  {
   "cell_type": "code",
   "execution_count": null,
   "id": "79d2b733",
   "metadata": {},
   "outputs": [],
   "source": [
    "#HELLO WORLD"
   ]
  },
  {
   "cell_type": "code",
   "execution_count": null,
   "id": "f56dcbdb",
   "metadata": {},
   "outputs": [],
   "source": []
  },
  {
   "cell_type": "code",
   "execution_count": 111,
   "id": "5aeb528d",
   "metadata": {},
   "outputs": [],
   "source": [
    "import pandas as pd"
   ]
  },
  {
   "cell_type": "code",
   "execution_count": 127,
   "id": "dcebbeab",
   "metadata": {},
   "outputs": [],
   "source": [
    "train = pd.read_csv('/Users/elinakelly/Desktop/JuanJo Kaggle/Kaggle Data 1/train.csv')\n",
    "test = pd.read_csv('/Users/elinakelly/Desktop/JuanJo Kaggle/Kaggle Data 1/test.csv')"
   ]
  },
  {
   "cell_type": "code",
   "execution_count": 128,
   "id": "0fdfca6b",
   "metadata": {},
   "outputs": [],
   "source": [
    "train_copy = train.copy()"
   ]
  },
  {
   "cell_type": "code",
   "execution_count": null,
   "id": "43736595",
   "metadata": {},
   "outputs": [],
   "source": []
  },
  {
   "cell_type": "code",
   "execution_count": null,
   "id": "2e6cbeee",
   "metadata": {},
   "outputs": [],
   "source": [
    "import re\n",
    "# https://www.scaler.com/topics/remove-special-characters-from-string-python/\n",
    "# re : Regular expressions form a pattern we can use to search for special characters in a string. \n",
    "# This property is used in functions to remove special characters from strings in python"
   ]
  }
 ],
 "metadata": {
  "kernelspec": {
   "display_name": "Python 3 (ipykernel)",
   "language": "python",
   "name": "python3"
  },
  "language_info": {
   "codemirror_mode": {
    "name": "ipython",
    "version": 3
   },
   "file_extension": ".py",
   "mimetype": "text/x-python",
   "name": "python",
   "nbconvert_exporter": "python",
   "pygments_lexer": "ipython3",
   "version": "3.9.7"
  }
 },
 "nbformat": 4,
 "nbformat_minor": 5
}
